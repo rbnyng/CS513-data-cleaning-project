{
 "cells": [
  {
   "cell_type": "code",
   "execution_count": 1,
   "metadata": {},
   "outputs": [],
   "source": [
    "import pandas as pd"
   ]
  },
  {
   "attachments": {},
   "cell_type": "markdown",
   "metadata": {},
   "source": [
    "## Load in before and after variety columns\n",
    "\n",
    "The process of cleaning is described in an openrefine history json file. To summarize, varieties that are translations or different spellings have been merged together into one cluster. (e.g. Grauburgunder and Pinot Grigio are the same as Pinot Gris, Inzolia is a different spelling of Insolia.) Additionally, varieties that are blends are merged into a new generic variety-blend type when there are less than 50 occurences of that blend type. (e.g. Cabernet Sauvignon-Syrah and Cabernet Sauvignon-Merlot are merged into a new type Cabernet Sauvignon Blend.) This creates larger clusters of wine varieties that makes analyses more effective."
   ]
  },
  {
   "cell_type": "code",
   "execution_count": 2,
   "metadata": {},
   "outputs": [],
   "source": [
    "df_old = pd.read_csv('intermediate_data\\wine_reviews.csv')\n",
    "df_new = pd.read_csv('intermediate_data\\wine_reviews_varieties_cleaned.csv')\n"
   ]
  },
  {
   "cell_type": "code",
   "execution_count": 3,
   "metadata": {},
   "outputs": [],
   "source": [
    "before = df_old['variety']\n",
    "after = df_new['variety']"
   ]
  },
  {
   "attachments": {},
   "cell_type": "markdown",
   "metadata": {},
   "source": [
    "## S4: Data quality checking: is D’ really “cleaner” than D?"
   ]
  },
  {
   "cell_type": "code",
   "execution_count": 4,
   "metadata": {},
   "outputs": [],
   "source": [
    "value_counts = before.value_counts()\n",
    "sorted_values_before = value_counts.sort_values(ascending=False)\n",
    "value_counts = after.value_counts()\n",
    "sorted_values_after = value_counts.sort_values(ascending=False)\n"
   ]
  },
  {
   "cell_type": "code",
   "execution_count": 5,
   "metadata": {},
   "outputs": [],
   "source": [
    "comparison_df = pd.concat([sorted_values_before, sorted_values_after], axis=1, keys=['Before', 'After'])\n",
    "before_stats = sorted_values_before.describe()\n",
    "after_stats = sorted_values_after.describe()\n",
    "stats_df = pd.concat([before_stats, after_stats], axis=1, keys=['Before', 'After'])"
   ]
  },
  {
   "cell_type": "code",
   "execution_count": 6,
   "metadata": {},
   "outputs": [
    {
     "name": "stdout",
     "output_type": "stream",
     "text": [
      "Side-by-side comparison of number of unique values before and after:\n",
      "                           Before    After\n",
      "variety                                   \n",
      "Pinot Noir                13272.0  13554.0\n",
      "Chardonnay                11753.0  11753.0\n",
      "Cabernet Sauvignon         9472.0   9483.0\n",
      "Red Blend                  8946.0   8946.0\n",
      "Bordeaux-style Red Blend   6915.0   6915.0\n",
      "...                           ...      ...\n",
      "Viura Blend                   NaN     15.0\n",
      "Sangiovese Blend              NaN     15.0\n",
      "Carmenère Blend               NaN     15.0\n",
      "Pinot Blanc Blend             NaN      6.0\n",
      "Merseguera                    NaN      2.0\n",
      "\n",
      "[721 rows x 2 columns]\n"
     ]
    }
   ],
   "source": [
    "print(\"Side-by-side comparison of number of unique values before and after:\")\n",
    "print(comparison_df)\n"
   ]
  },
  {
   "cell_type": "code",
   "execution_count": 7,
   "metadata": {},
   "outputs": [
    {
     "name": "stdout",
     "output_type": "stream",
     "text": [
      "\n",
      "Descriptive statistics for unique value counts before and after:\n",
      "             Before         After\n",
      "count    707.000000    451.000000\n",
      "mean     183.833098    288.184035\n",
      "std      976.188990   1227.589459\n",
      "min        1.000000      1.000000\n",
      "25%        2.000000      2.000000\n",
      "50%        6.000000      9.000000\n",
      "75%       28.500000     56.000000\n",
      "max    13272.000000  13554.000000\n"
     ]
    }
   ],
   "source": [
    "print(\"\\nDescriptive statistics for unique value counts before and after:\")\n",
    "print(stats_df)"
   ]
  },
  {
   "cell_type": "code",
   "execution_count": 8,
   "metadata": {},
   "outputs": [
    {
     "name": "stdout",
     "output_type": "stream",
     "text": [
      "Difference in the number of unique values in the variety column after data cleaning\n",
      "256\n"
     ]
    }
   ],
   "source": [
    "print(\"Difference in the number of unique values in the variety column after data cleaning\")\n",
    "print(len(sorted_values_before) - len(sorted_values_after))\n"
   ]
  },
  {
   "attachments": {},
   "cell_type": "markdown",
   "metadata": {},
   "source": [
    "## S5: Document and quantify change"
   ]
  },
  {
   "cell_type": "code",
   "execution_count": 9,
   "metadata": {},
   "outputs": [],
   "source": [
    "differences = before.compare(after)"
   ]
  },
  {
   "cell_type": "code",
   "execution_count": 10,
   "metadata": {},
   "outputs": [
    {
     "name": "stdout",
     "output_type": "stream",
     "text": [
      "Sample row differences between before and after dataframes:\n",
      "                             self                     other\n",
      "129805               Pinot Grigio                Pinot Gris\n",
      "129852  Cabernet Sauvignon-Shiraz  Cabernet Sauvignon Blend\n",
      "129889         Roussanne-Marsanne                  Marsanne\n",
      "129916              Grauburgunder                Pinot Gris\n",
      "129953            Cabernet Merlot  Cabernet Sauvignon Blend\n"
     ]
    }
   ],
   "source": [
    "print(\"Sample row differences between before and after dataframes:\")\n",
    "print(differences.tail(5))"
   ]
  },
  {
   "cell_type": "code",
   "execution_count": 11,
   "metadata": {},
   "outputs": [
    {
     "name": "stdout",
     "output_type": "stream",
     "text": [
      "Number of rows changed in data cleaning process:\n",
      "5444\n",
      "Percent of rows changed in data cleaning process:\n",
      "4.19\n"
     ]
    }
   ],
   "source": [
    "print(\"Number of rows changed in data cleaning process:\")\n",
    "print(len(differences))\n",
    "print(\"Percent of rows changed in data cleaning process:\")\n",
    "print(\"{:.2f}\".format(len(differences) / len(before) * 100))\n"
   ]
  },
  {
   "attachments": {},
   "cell_type": "markdown",
   "metadata": {},
   "source": [
    "## S5: Check for integrity constraints\n"
   ]
  },
  {
   "attachments": {},
   "cell_type": "markdown",
   "metadata": {},
   "source": [
    "Since the raw dataset came with an index column which functionally determines every other variable, there are no IC violations for key duplication and every row is uniquely identified. There is one row in the raw dataset with missing variety, which is eliminated in the cleaned dataset. Since the foreign keys to the other tables are generated in the data cleaning process earlier and did not come with the raw dataset, there are no referential IC violations."
   ]
  },
  {
   "cell_type": "code",
   "execution_count": 15,
   "metadata": {},
   "outputs": [
    {
     "name": "stdout",
     "output_type": "stream",
     "text": [
      "index              0\n",
      "description        0\n",
      "points             0\n",
      "price           8996\n",
      "title              0\n",
      "variety            1\n",
      "designation    37465\n",
      "reviewer_id        0\n",
      "winery_id          0\n",
      "dtype: int64\n",
      "0\n"
     ]
    }
   ],
   "source": [
    "null_values = df_old.isnull().sum()\n",
    "print(null_values)\n",
    "duplicate_rows = df_old.duplicated().sum()\n",
    "print(duplicate_rows)\n"
   ]
  },
  {
   "cell_type": "code",
   "execution_count": 13,
   "metadata": {},
   "outputs": [
    {
     "name": "stdout",
     "output_type": "stream",
     "text": [
      "index              0\n",
      "description        0\n",
      "points             0\n",
      "price           8996\n",
      "title              0\n",
      "variety            0\n",
      "designation    37465\n",
      "reviewer_id        0\n",
      "winery_id          0\n",
      "dtype: int64\n",
      "0\n"
     ]
    }
   ],
   "source": [
    "null_values = df_new.isnull().sum()\n",
    "print(null_values)\n",
    "duplicate_rows = df_new.duplicated().sum()\n",
    "print(duplicate_rows)\n"
   ]
  }
 ],
 "metadata": {
  "kernelspec": {
   "display_name": ".venv",
   "language": "python",
   "name": "python3"
  },
  "language_info": {
   "codemirror_mode": {
    "name": "ipython",
    "version": 3
   },
   "file_extension": ".py",
   "mimetype": "text/x-python",
   "name": "python",
   "nbconvert_exporter": "python",
   "pygments_lexer": "ipython3",
   "version": "3.11.3"
  },
  "orig_nbformat": 4
 },
 "nbformat": 4,
 "nbformat_minor": 2
}
