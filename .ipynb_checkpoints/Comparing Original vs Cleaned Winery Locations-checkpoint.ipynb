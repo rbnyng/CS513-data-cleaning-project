{
 "cells": [
  {
   "cell_type": "markdown",
   "id": "6b3d40c5",
   "metadata": {},
   "source": [
    "### Comparing original vs cleaned wineries.csv"
   ]
  },
  {
   "cell_type": "code",
   "execution_count": 1,
   "id": "83acb807",
   "metadata": {},
   "outputs": [],
   "source": [
    "import pandas as pd\n",
    "\n",
    "df_old = pd.read_csv('intermediate_data\\wineries.csv')\n",
    "df_new = pd.read_csv('intermediate_data\\wineries_locations_cleaned.csv')"
   ]
  },
  {
   "cell_type": "code",
   "execution_count": 8,
   "id": "dbfedde5",
   "metadata": {},
   "outputs": [
    {
     "name": "stdout",
     "output_type": "stream",
     "text": [
      "Original dataset had 27 empty country rows.\n",
      "Cleaned dataset has 0 empty country rows.\n",
      "\n",
      "Original dataset had 27 empty province rows.\n",
      "Cleaned dataset has 0 empty province rows.\n"
     ]
    }
   ],
   "source": [
    "# Comparing number of nan rows in each\n",
    "print(\"Original dataset had\",df_old[\"country\"].isnull().sum(),\"empty country rows.\")\n",
    "print(\"Cleaned dataset has\",df_new[\"country\"].isnull().sum(),\"empty country rows.\")\n",
    "print()\n",
    "print(\"Original dataset had\",df_old[\"province\"].isnull().sum(),\"empty province rows.\")\n",
    "print(\"Cleaned dataset has\",df_new[\"province\"].isnull().sum(),\"empty province rows.\")"
   ]
  },
  {
   "cell_type": "code",
   "execution_count": 5,
   "id": "dd83b7de",
   "metadata": {},
   "outputs": [
    {
     "name": "stdout",
     "output_type": "stream",
     "text": [
      "Number of rows with changed country values: 27\n",
      "Number of rows with changed province values: 1028\n"
     ]
    }
   ],
   "source": [
    "# Check how many rows have changed\n",
    "province_rows_changed = 0\n",
    "for i in range(len(df_new)):\n",
    "    if df_old['province'].loc[i]!=df_new['province'].loc[i]:\n",
    "        province_rows_changed+=1\n",
    "        \n",
    "country_rows_changed = 0\n",
    "for i in range(len(df_new)):\n",
    "    if df_old['country'].loc[i]!=df_new['country'].loc[i]:\n",
    "        country_rows_changed+=1\n",
    "        \n",
    "print(\"Number of rows with changed country values:\",country_rows_changed)\n",
    "print(\"Number of rows with changed province values:\",province_rows_changed)"
   ]
  },
  {
   "cell_type": "code",
   "execution_count": 6,
   "id": "ebde17f7",
   "metadata": {},
   "outputs": [
    {
     "name": "stdout",
     "output_type": "stream",
     "text": [
      "From 44 unique countries to 44 unique countries.\n",
      "From 426 unique provinces to 382 unique provinces.\n"
     ]
    }
   ],
   "source": [
    "# Comparison of number of unique country/province values to start and end\n",
    "old_unique_countries = len(df_old['country'].unique())\n",
    "new_unique_countries = len(df_new['country'].unique())\n",
    "\n",
    "old_unique_provinces = len(df_old['province'].unique())\n",
    "new_unique_provinces = len(df_new['province'].unique())\n",
    "\n",
    "print(\"From\",old_unique_countries,\"unique countries to\",new_unique_countries,\"unique countries.\")\n",
    "print(\"From\",old_unique_provinces,\"unique provinces to\",new_unique_provinces,\"unique provinces.\")"
   ]
  }
 ],
 "metadata": {
  "kernelspec": {
   "display_name": "Python 3 (ipykernel)",
   "language": "python",
   "name": "python3"
  },
  "language_info": {
   "codemirror_mode": {
    "name": "ipython",
    "version": 3
   },
   "file_extension": ".py",
   "mimetype": "text/x-python",
   "name": "python",
   "nbconvert_exporter": "python",
   "pygments_lexer": "ipython3",
   "version": "3.10.9"
  }
 },
 "nbformat": 4,
 "nbformat_minor": 5
}
