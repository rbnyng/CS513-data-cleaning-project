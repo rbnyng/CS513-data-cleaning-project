{
 "cells": [
  {
   "cell_type": "markdown",
   "id": "075bf773",
   "metadata": {},
   "source": [
    "## Preliminary data exploration on source data"
   ]
  },
  {
   "cell_type": "code",
   "execution_count": 3,
   "id": "876d71b9",
   "metadata": {},
   "outputs": [],
   "source": [
    "import pandas as pd\n",
    "df = pd.read_csv(\"source_data/winemag-data-130k-v2.csv\")"
   ]
  },
  {
   "cell_type": "code",
   "execution_count": 7,
   "id": "b3305a36",
   "metadata": {},
   "outputs": [
    {
     "data": {
      "text/html": [
       "<div>\n",
       "<style scoped>\n",
       "    .dataframe tbody tr th:only-of-type {\n",
       "        vertical-align: middle;\n",
       "    }\n",
       "\n",
       "    .dataframe tbody tr th {\n",
       "        vertical-align: top;\n",
       "    }\n",
       "\n",
       "    .dataframe thead th {\n",
       "        text-align: right;\n",
       "    }\n",
       "</style>\n",
       "<table border=\"1\" class=\"dataframe\">\n",
       "  <thead>\n",
       "    <tr style=\"text-align: right;\">\n",
       "      <th></th>\n",
       "      <th>Unnamed: 0</th>\n",
       "      <th>country</th>\n",
       "      <th>description</th>\n",
       "      <th>designation</th>\n",
       "      <th>points</th>\n",
       "      <th>price</th>\n",
       "      <th>province</th>\n",
       "      <th>region_1</th>\n",
       "      <th>region_2</th>\n",
       "      <th>taster_name</th>\n",
       "      <th>taster_twitter_handle</th>\n",
       "      <th>title</th>\n",
       "      <th>variety</th>\n",
       "      <th>winery</th>\n",
       "    </tr>\n",
       "  </thead>\n",
       "  <tbody>\n",
       "    <tr>\n",
       "      <th>0</th>\n",
       "      <td>0</td>\n",
       "      <td>Italy</td>\n",
       "      <td>Aromas include tropical fruit, broom, brimston...</td>\n",
       "      <td>Vulkà Bianco</td>\n",
       "      <td>87</td>\n",
       "      <td>NaN</td>\n",
       "      <td>Sicily &amp; Sardinia</td>\n",
       "      <td>Etna</td>\n",
       "      <td>NaN</td>\n",
       "      <td>Kerin O’Keefe</td>\n",
       "      <td>@kerinokeefe</td>\n",
       "      <td>Nicosia 2013 Vulkà Bianco  (Etna)</td>\n",
       "      <td>White Blend</td>\n",
       "      <td>Nicosia</td>\n",
       "    </tr>\n",
       "    <tr>\n",
       "      <th>1</th>\n",
       "      <td>1</td>\n",
       "      <td>Portugal</td>\n",
       "      <td>This is ripe and fruity, a wine that is smooth...</td>\n",
       "      <td>Avidagos</td>\n",
       "      <td>87</td>\n",
       "      <td>15.0</td>\n",
       "      <td>Douro</td>\n",
       "      <td>NaN</td>\n",
       "      <td>NaN</td>\n",
       "      <td>Roger Voss</td>\n",
       "      <td>@vossroger</td>\n",
       "      <td>Quinta dos Avidagos 2011 Avidagos Red (Douro)</td>\n",
       "      <td>Portuguese Red</td>\n",
       "      <td>Quinta dos Avidagos</td>\n",
       "    </tr>\n",
       "    <tr>\n",
       "      <th>2</th>\n",
       "      <td>2</td>\n",
       "      <td>US</td>\n",
       "      <td>Tart and snappy, the flavors of lime flesh and...</td>\n",
       "      <td>NaN</td>\n",
       "      <td>87</td>\n",
       "      <td>14.0</td>\n",
       "      <td>Oregon</td>\n",
       "      <td>Willamette Valley</td>\n",
       "      <td>Willamette Valley</td>\n",
       "      <td>Paul Gregutt</td>\n",
       "      <td>@paulgwine</td>\n",
       "      <td>Rainstorm 2013 Pinot Gris (Willamette Valley)</td>\n",
       "      <td>Pinot Gris</td>\n",
       "      <td>Rainstorm</td>\n",
       "    </tr>\n",
       "    <tr>\n",
       "      <th>3</th>\n",
       "      <td>3</td>\n",
       "      <td>US</td>\n",
       "      <td>Pineapple rind, lemon pith and orange blossom ...</td>\n",
       "      <td>Reserve Late Harvest</td>\n",
       "      <td>87</td>\n",
       "      <td>13.0</td>\n",
       "      <td>Michigan</td>\n",
       "      <td>Lake Michigan Shore</td>\n",
       "      <td>NaN</td>\n",
       "      <td>Alexander Peartree</td>\n",
       "      <td>NaN</td>\n",
       "      <td>St. Julian 2013 Reserve Late Harvest Riesling ...</td>\n",
       "      <td>Riesling</td>\n",
       "      <td>St. Julian</td>\n",
       "    </tr>\n",
       "    <tr>\n",
       "      <th>4</th>\n",
       "      <td>4</td>\n",
       "      <td>US</td>\n",
       "      <td>Much like the regular bottling from 2012, this...</td>\n",
       "      <td>Vintner's Reserve Wild Child Block</td>\n",
       "      <td>87</td>\n",
       "      <td>65.0</td>\n",
       "      <td>Oregon</td>\n",
       "      <td>Willamette Valley</td>\n",
       "      <td>Willamette Valley</td>\n",
       "      <td>Paul Gregutt</td>\n",
       "      <td>@paulgwine</td>\n",
       "      <td>Sweet Cheeks 2012 Vintner's Reserve Wild Child...</td>\n",
       "      <td>Pinot Noir</td>\n",
       "      <td>Sweet Cheeks</td>\n",
       "    </tr>\n",
       "  </tbody>\n",
       "</table>\n",
       "</div>"
      ],
      "text/plain": [
       "   Unnamed: 0   country                                        description  \\\n",
       "0           0     Italy  Aromas include tropical fruit, broom, brimston...   \n",
       "1           1  Portugal  This is ripe and fruity, a wine that is smooth...   \n",
       "2           2        US  Tart and snappy, the flavors of lime flesh and...   \n",
       "3           3        US  Pineapple rind, lemon pith and orange blossom ...   \n",
       "4           4        US  Much like the regular bottling from 2012, this...   \n",
       "\n",
       "                          designation  points  price           province  \\\n",
       "0                        Vulkà Bianco      87    NaN  Sicily & Sardinia   \n",
       "1                            Avidagos      87   15.0              Douro   \n",
       "2                                 NaN      87   14.0             Oregon   \n",
       "3                Reserve Late Harvest      87   13.0           Michigan   \n",
       "4  Vintner's Reserve Wild Child Block      87   65.0             Oregon   \n",
       "\n",
       "              region_1           region_2         taster_name  \\\n",
       "0                 Etna                NaN       Kerin O’Keefe   \n",
       "1                  NaN                NaN          Roger Voss   \n",
       "2    Willamette Valley  Willamette Valley        Paul Gregutt   \n",
       "3  Lake Michigan Shore                NaN  Alexander Peartree   \n",
       "4    Willamette Valley  Willamette Valley        Paul Gregutt   \n",
       "\n",
       "  taster_twitter_handle                                              title  \\\n",
       "0          @kerinokeefe                  Nicosia 2013 Vulkà Bianco  (Etna)   \n",
       "1            @vossroger      Quinta dos Avidagos 2011 Avidagos Red (Douro)   \n",
       "2           @paulgwine       Rainstorm 2013 Pinot Gris (Willamette Valley)   \n",
       "3                   NaN  St. Julian 2013 Reserve Late Harvest Riesling ...   \n",
       "4           @paulgwine   Sweet Cheeks 2012 Vintner's Reserve Wild Child...   \n",
       "\n",
       "          variety               winery  \n",
       "0     White Blend              Nicosia  \n",
       "1  Portuguese Red  Quinta dos Avidagos  \n",
       "2      Pinot Gris            Rainstorm  \n",
       "3        Riesling           St. Julian  \n",
       "4      Pinot Noir         Sweet Cheeks  "
      ]
     },
     "execution_count": 7,
     "metadata": {},
     "output_type": "execute_result"
    }
   ],
   "source": [
    "df.head()"
   ]
  },
  {
   "cell_type": "markdown",
   "id": "39df08be",
   "metadata": {},
   "source": [
    "#### Check which columns have null values"
   ]
  },
  {
   "cell_type": "code",
   "execution_count": 11,
   "id": "2b752377",
   "metadata": {},
   "outputs": [
    {
     "name": "stdout",
     "output_type": "stream",
     "text": [
      "Column country has 63 empty values.\n",
      "Column description has 0 empty values.\n",
      "Column designation has 37465 empty values.\n",
      "Column points has 0 empty values.\n",
      "Column price has 8996 empty values.\n",
      "Column province has 63 empty values.\n",
      "Column region_1 has 21247 empty values.\n",
      "Column region_2 has 79460 empty values.\n",
      "Column taster_name has 26244 empty values.\n",
      "Column taster_twitter_handle has 31213 empty values.\n",
      "Column title has 0 empty values.\n",
      "Column variety has 1 empty values.\n",
      "Column winery has 0 empty values.\n"
     ]
    }
   ],
   "source": [
    "for col in df.columns[1:]:\n",
    "    print(\"Column\",col,\"has\",df[col].isnull().sum(),\"empty values.\")"
   ]
  },
  {
   "cell_type": "markdown",
   "id": "606f1829",
   "metadata": {},
   "source": [
    "**Conclusions**: \n",
    "- Columns with no empty values: description, points, title, winery.\n",
    "- the vast majority of rows have country and province information\n",
    "- All but one has variety information\n",
    "- the rest of the data have significant missing data, including designation, price, province, region, taster info"
   ]
  },
  {
   "cell_type": "markdown",
   "id": "a9d6a081",
   "metadata": {},
   "source": [
    "#### Deeper dive into \"country\" and \"province\""
   ]
  },
  {
   "cell_type": "code",
   "execution_count": 17,
   "id": "fa174516",
   "metadata": {},
   "outputs": [
    {
     "name": "stdout",
     "output_type": "stream",
     "text": [
      "['Italy' 'Portugal' 'US' 'Spain' 'France' 'Germany' 'Argentina' 'Chile'\n",
      " 'Australia' 'Austria' 'South Africa' 'New Zealand' 'Israel' 'Hungary'\n",
      " 'Greece' 'Romania' 'Mexico' 'Canada' nan 'Turkey' 'Czech Republic'\n",
      " 'Slovenia' 'Luxembourg' 'Croatia' 'Georgia' 'Uruguay' 'England' 'Lebanon'\n",
      " 'Serbia' 'Brazil' 'Moldova' 'Morocco' 'Peru' 'India' 'Bulgaria' 'Cyprus'\n",
      " 'Armenia' 'Switzerland' 'Bosnia and Herzegovina' 'Ukraine' 'Slovakia'\n",
      " 'Macedonia' 'China' 'Egypt']\n",
      "43\n"
     ]
    }
   ],
   "source": [
    "countries = df[\"country\"].unique()\n",
    "print(countries)\n",
    "print(len(countries)-1)"
   ]
  },
  {
   "cell_type": "code",
   "execution_count": 30,
   "id": "7af18183",
   "metadata": {},
   "outputs": [
    {
     "name": "stdout",
     "output_type": "stream",
     "text": [
      "425\n"
     ]
    }
   ],
   "source": [
    "provinces = df[\"province\"].unique()\n",
    "print(len(provinces)-1)"
   ]
  },
  {
   "cell_type": "code",
   "execution_count": 22,
   "id": "12c6c00f",
   "metadata": {},
   "outputs": [
    {
     "data": {
      "text/plain": [
       "array([ True,  True,  True,  True,  True,  True,  True,  True,  True,\n",
       "        True,  True,  True,  True,  True,  True,  True,  True,  True,\n",
       "        True,  True,  True,  True,  True,  True,  True,  True,  True,\n",
       "        True,  True,  True,  True,  True,  True,  True,  True,  True,\n",
       "        True,  True,  True,  True,  True,  True,  True,  True,  True,\n",
       "        True,  True,  True,  True,  True,  True,  True,  True,  True,\n",
       "        True,  True,  True,  True,  True,  True,  True,  True,  True])"
      ]
     },
     "execution_count": 22,
     "metadata": {},
     "output_type": "execute_result"
    }
   ],
   "source": [
    "df[df['country'].isnull()].index == df[df['province'].isnull()].index"
   ]
  },
  {
   "cell_type": "code",
   "execution_count": 32,
   "id": "f0cedf9b",
   "metadata": {},
   "outputs": [
    {
     "name": "stdout",
     "output_type": "stream",
     "text": [
      "        Unnamed: 0 country                                        description  \\\n",
      "913            913     NaN  Amber in color, this wine has aromas of peach ...   \n",
      "3131          3131     NaN  Soft, fruity and juicy, this is a pleasant, si...   \n",
      "4243          4243     NaN  Violet-red in color, this semisweet wine has a...   \n",
      "9509          9509     NaN  This mouthwatering blend starts with a nose of...   \n",
      "9750          9750     NaN  This orange-style wine has a cloudy yellow-gol...   \n",
      "...            ...     ...                                                ...   \n",
      "124176      124176     NaN  This Swiss red blend is composed of four varie...   \n",
      "129407      129407     NaN  Dry spicy aromas of dusty plum and tomato add ...   \n",
      "129408      129408     NaN  El Capricho is one of Uruguay's more consisten...   \n",
      "129590      129590     NaN  A blend of 60% Syrah, 30% Cabernet Sauvignon a...   \n",
      "129900      129900     NaN  This wine offers a delightful bouquet of black...   \n",
      "\n",
      "                           designation  points  price province region_1  \\\n",
      "913                     Asureti Valley      87   30.0      NaN      NaN   \n",
      "3131                          Partager      83    NaN      NaN      NaN   \n",
      "4243          Red Naturally Semi-Sweet      88   18.0      NaN      NaN   \n",
      "9509    Theopetra Malagouzia-Assyrtiko      92   28.0      NaN      NaN   \n",
      "9750         Orange Nikolaevo Vineyard      89   28.0      NaN      NaN   \n",
      "...                                ...     ...    ...      ...      ...   \n",
      "124176                    Les Romaines      90   30.0      NaN      NaN   \n",
      "129407                         Reserve      89   22.0      NaN      NaN   \n",
      "129408                         Reserve      89   22.0      NaN      NaN   \n",
      "129590                            Shah      90   30.0      NaN      NaN   \n",
      "129900                             NaN      91   32.0      NaN      NaN   \n",
      "\n",
      "       region_2        taster_name taster_twitter_handle  \\\n",
      "913         NaN      Mike DeSimone        @worldwineguys   \n",
      "3131        NaN         Roger Voss            @vossroger   \n",
      "4243        NaN      Mike DeSimone        @worldwineguys   \n",
      "9509        NaN    Susan Kostrzewa         @suskostrzewa   \n",
      "9750        NaN       Jeff Jenssen        @worldwineguys   \n",
      "...         ...                ...                   ...   \n",
      "124176      NaN       Jeff Jenssen        @worldwineguys   \n",
      "129407      NaN  Michael Schachner           @wineschach   \n",
      "129408      NaN  Michael Schachner           @wineschach   \n",
      "129590      NaN      Mike DeSimone        @worldwineguys   \n",
      "129900      NaN      Mike DeSimone        @worldwineguys   \n",
      "\n",
      "                                                    title             variety  \\\n",
      "913        Gotsa Family Wines 2014 Asureti Valley Chinuri             Chinuri   \n",
      "3131                    Barton & Guestier NV Partager Red           Red Blend   \n",
      "4243    Kakhetia Traditional Winemaking 2012 Red Natur...            Ojaleshi   \n",
      "9509    Tsililis 2015 Theopetra Malagouzia-Assyrtiko W...         White Blend   \n",
      "9750    Ross-idi 2015 Orange Nikolaevo Vineyard Chardo...          Chardonnay   \n",
      "...                                                   ...                 ...   \n",
      "124176            Les Frères Dutruy 2014 Les Romaines Red           Red Blend   \n",
      "129407        El Capricho 2015 Reserve Cabernet Sauvignon  Cabernet Sauvignon   \n",
      "129408               El Capricho 2015 Reserve Tempranillo         Tempranillo   \n",
      "129590                            Büyülübağ 2012 Shah Red           Red Blend   \n",
      "129900                                 Psagot 2014 Merlot              Merlot   \n",
      "\n",
      "                                 winery  \n",
      "913                  Gotsa Family Wines  \n",
      "3131                  Barton & Guestier  \n",
      "4243    Kakhetia Traditional Winemaking  \n",
      "9509                           Tsililis  \n",
      "9750                           Ross-idi  \n",
      "...                                 ...  \n",
      "124176                Les Frères Dutruy  \n",
      "129407                      El Capricho  \n",
      "129408                      El Capricho  \n",
      "129590                        Büyülübağ  \n",
      "129900                           Psagot  \n",
      "\n",
      "[63 rows x 14 columns]\n"
     ]
    }
   ],
   "source": [
    "idx_missing_location = df[df['country'].isnull()].index\n",
    "print(df.loc[idx_missing_location])"
   ]
  },
  {
   "cell_type": "markdown",
   "id": "332d8f2c",
   "metadata": {},
   "source": [
    "Look more into the wineries of rows with missing information:"
   ]
  },
  {
   "cell_type": "code",
   "execution_count": 42,
   "id": "e2b59bbe",
   "metadata": {},
   "outputs": [
    {
     "name": "stdout",
     "output_type": "stream",
     "text": [
      "Neumeister                         9\n",
      "Orbelus                            7\n",
      "Psagot                             4\n",
      "Stone Castle                       4\n",
      "Gotsa Family Wines                 4\n",
      "Ross-idi                           4\n",
      "El Capricho                        3\n",
      "Tsililis                           3\n",
      "St. Donat                          3\n",
      "Les Frères Dutruy                  2\n",
      "Mt. Beautiful                      2\n",
      "Barton & Guestier                  2\n",
      "Ktima Voyatzi                      2\n",
      "Newton Johnson                     1\n",
      "Amiran Vepkhvadze                  1\n",
      "Somlói Vándor                      1\n",
      "Logodaj                            1\n",
      "Lismore                            1\n",
      "Santa Ema                          1\n",
      "Kakhetia Traditional Winemaking    1\n",
      "Chilcas                            1\n",
      "Bachelder                          1\n",
      "Undurraga                          1\n",
      "Teliani Valley                     1\n",
      "Bartho Eksteen                     1\n",
      "Familia Deicas                     1\n",
      "Büyülübağ                          1\n",
      "Name: winery, dtype: int64\n",
      "27\n"
     ]
    }
   ],
   "source": [
    "wineries_with_missing_location = df[\"winery\"].loc[idx_missing_location]\n",
    "print(wineries_with_missing_location.value_counts())\n",
    "print(len(wineries_with_missing_location.unique()))"
   ]
  },
  {
   "cell_type": "markdown",
   "id": "0525082a",
   "metadata": {},
   "source": [
    "Check if these wineries appeared anywhere else in the dataset"
   ]
  },
  {
   "cell_type": "code",
   "execution_count": 45,
   "id": "a5f2283c",
   "metadata": {},
   "outputs": [
    {
     "name": "stdout",
     "output_type": "stream",
     "text": [
      "Gotsa Family Wines -- Total: 5 Missing: 4\n",
      "Barton & Guestier -- Total: 80 Missing: 2\n",
      "Kakhetia Traditional Winemaking -- Total: 1 Missing: 1\n",
      "Tsililis -- Total: 3 Missing: 3\n",
      "Ross-idi -- Total: 4 Missing: 4\n",
      "Orbelus -- Total: 7 Missing: 7\n",
      "St. Donat -- Total: 3 Missing: 3\n",
      "Familia Deicas -- Total: 13 Missing: 1\n",
      "Bartho Eksteen -- Total: 2 Missing: 1\n",
      "Stone Castle -- Total: 4 Missing: 4\n",
      "Teliani Valley -- Total: 7 Missing: 1\n",
      "Undurraga -- Total: 113 Missing: 1\n",
      "Mt. Beautiful -- Total: 7 Missing: 2\n",
      "Neumeister -- Total: 38 Missing: 9\n",
      "Bachelder -- Total: 2 Missing: 1\n",
      "Chilcas -- Total: 54 Missing: 1\n",
      "Santa Ema -- Total: 112 Missing: 1\n",
      "Psagot -- Total: 19 Missing: 4\n",
      "Newton Johnson -- Total: 2 Missing: 1\n",
      "Ktima Voyatzi -- Total: 4 Missing: 2\n",
      "Lismore -- Total: 1 Missing: 1\n",
      "Logodaj -- Total: 2 Missing: 1\n",
      "Somlói Vándor -- Total: 1 Missing: 1\n",
      "Les Frères Dutruy -- Total: 2 Missing: 2\n",
      "El Capricho -- Total: 3 Missing: 3\n",
      "Amiran Vepkhvadze -- Total: 1 Missing: 1\n",
      "Büyülübağ -- Total: 1 Missing: 1\n"
     ]
    }
   ],
   "source": [
    "for winery in wineries_with_missing_location.unique():\n",
    "    total = df['winery'].value_counts()[winery]\n",
    "    missing = wineries_with_missing_location.value_counts()[winery]\n",
    "    print(winery,\"-- Total:\",total,\"Missing:\",missing)"
   ]
  },
  {
   "cell_type": "code",
   "execution_count": 46,
   "id": "de3d799c",
   "metadata": {},
   "outputs": [
    {
     "name": "stdout",
     "output_type": "stream",
     "text": [
      "Only wineries that have never had any location data:\n",
      "....................................................\n",
      "Kakhetia Traditional Winemaking -- Total: 1 Missing: 1\n",
      "Tsililis -- Total: 3 Missing: 3\n",
      "Ross-idi -- Total: 4 Missing: 4\n",
      "Orbelus -- Total: 7 Missing: 7\n",
      "St. Donat -- Total: 3 Missing: 3\n",
      "Stone Castle -- Total: 4 Missing: 4\n",
      "Lismore -- Total: 1 Missing: 1\n",
      "Somlói Vándor -- Total: 1 Missing: 1\n",
      "Les Frères Dutruy -- Total: 2 Missing: 2\n",
      "El Capricho -- Total: 3 Missing: 3\n",
      "Amiran Vepkhvadze -- Total: 1 Missing: 1\n",
      "Büyülübağ -- Total: 1 Missing: 1\n"
     ]
    }
   ],
   "source": [
    "print(\"Only wineries that have never had any location data:\")\n",
    "print(\"....................................................\")\n",
    "for winery in wineries_with_missing_location.unique():\n",
    "    total = df['winery'].value_counts()[winery]\n",
    "    missing = wineries_with_missing_location.value_counts()[winery]\n",
    "    if total == missing:\n",
    "        print(winery,\"-- Total:\",total,\"Missing:\",missing)"
   ]
  },
  {
   "cell_type": "markdown",
   "id": "9fe3e09c",
   "metadata": {},
   "source": [
    "Through Google, this seems to be the information about the following wineries:\n",
    "- Kakhetia Traditional Winemaking: Tbilisi, Georgia\n",
    "- Tsililis: Ράξα, Greece\n",
    "- Ross-idi: Nikolaevo, Bulgaria\n",
    "- Orbelus: Kromidovo village, Bulgaria\n",
    "- St. Donat: Csopak, Hungary\n",
    "- Stone Castle: Bernjaka P.N. Rahovec, Kosovo\n",
    "- Lismore: Greyton, South Africa\n",
    "- Somlói Vándor: Somlóvásárhely, Hungary\n",
    "- Les Frères Dutruy: Founex, Switzerland\n",
    "- El Capricho: Villa del Carmen, Uruguay\n",
    "- Amiran Vepkhvadze: Kveda Kldeeti, Georgia\n",
    "- Büyülübağ: Istanbul, Turkey"
   ]
  },
  {
   "cell_type": "markdown",
   "id": "0be03406",
   "metadata": {},
   "source": [
    "**Conclusions:**\n",
    "- The original data has reviews of wines from 43 countries and 425 provinces. \n",
    "- All 63 rows missing \"country\" data are also missing \"province\" data. \n",
    "- These 63 rows include 27 unique wineries.\n",
    "- Some of the wineries of reviews missing country data appear in other locations in the dataset, and therefore have location data elsewhere in the dataset.\n",
    "- Only 12 of the 27 wineries appear nowhere else in the dataset: I found where those wineries are located manually on Google without much difficulty."
   ]
  },
  {
   "cell_type": "markdown",
   "id": "41935004",
   "metadata": {},
   "source": [
    "#### Check unique values and missing row for \"variety\""
   ]
  },
  {
   "cell_type": "code",
   "execution_count": 47,
   "id": "38aadf3d",
   "metadata": {},
   "outputs": [
    {
     "data": {
      "text/plain": [
       "Pinot Noir                    13272\n",
       "Chardonnay                    11753\n",
       "Cabernet Sauvignon             9472\n",
       "Red Blend                      8946\n",
       "Bordeaux-style Red Blend       6915\n",
       "                              ...  \n",
       "Cabernet Sauvignon-Barbera        1\n",
       "Sauvignonasse                     1\n",
       "Forcallà                          1\n",
       "Meseguera                         1\n",
       "Bobal-Cabernet Sauvignon          1\n",
       "Name: variety, Length: 707, dtype: int64"
      ]
     },
     "execution_count": 47,
     "metadata": {},
     "output_type": "execute_result"
    }
   ],
   "source": [
    "df['variety'].value_counts()"
   ]
  },
  {
   "cell_type": "code",
   "execution_count": 61,
   "id": "cc444881",
   "metadata": {},
   "outputs": [
    {
     "name": "stdout",
     "output_type": "stream",
     "text": [
      "       Unnamed: 0 country                                        description  \\\n",
      "86909       86909   Chile  A chalky, dusty mouthfeel nicely balances this...   \n",
      "\n",
      "      designation  points  price      province region_1 region_2 taster_name  \\\n",
      "86909         NaN      88   17.0  Maipo Valley      NaN      NaN         NaN   \n",
      "\n",
      "      taster_twitter_handle                        title variety  winery  \n",
      "86909                   NaN  Carmen 1999  (Maipo Valley)     NaN  Carmen  \n"
     ]
    }
   ],
   "source": [
    "missing_variety = df.loc[df[df['variety'].isnull()].index]\n",
    "print(missing_variety)"
   ]
  },
  {
   "cell_type": "code",
   "execution_count": 63,
   "id": "62c5ed9d",
   "metadata": {},
   "outputs": [
    {
     "data": {
      "text/plain": [
       "\"A chalky, dusty mouthfeel nicely balances this Petite Syrah's bright, full blackberry and blueberry fruit. Wheat-flour and black-pepper notes add interest to the bouquet; the wine finishes with herb and an acorny nuttiness. A good first Chilean wine for those more comfortable with the Californian style. It's got tannins to lose, but it's very good.\""
      ]
     },
     "execution_count": 63,
     "metadata": {},
     "output_type": "execute_result"
    }
   ],
   "source": [
    "df.loc[86909].description"
   ]
  },
  {
   "cell_type": "markdown",
   "id": "01cef8e1",
   "metadata": {},
   "source": [
    "**Conclusion:**\n",
    "This seems to be a rating for a Petite Sirah."
   ]
  },
  {
   "cell_type": "markdown",
   "id": "01ab8d2b",
   "metadata": {},
   "source": [
    "#### Check unique values for \"winery\""
   ]
  },
  {
   "cell_type": "code",
   "execution_count": 65,
   "id": "789fbb14",
   "metadata": {},
   "outputs": [
    {
     "data": {
      "text/plain": [
       "Wines & Winemakers    222\n",
       "Testarossa            218\n",
       "DFJ Vinhos            215\n",
       "Williams Selyem       211\n",
       "Louis Latour          199\n",
       "                     ... \n",
       "Hypothesis              1\n",
       "Camps d'Estels          1\n",
       "Harbor Town             1\n",
       "Château de Saurs        1\n",
       "Penedo Borges           1\n",
       "Name: winery, Length: 16757, dtype: int64"
      ]
     },
     "execution_count": 65,
     "metadata": {},
     "output_type": "execute_result"
    }
   ],
   "source": [
    "df['winery'].value_counts()"
   ]
  },
  {
   "cell_type": "markdown",
   "id": "9e6a4285",
   "metadata": {},
   "source": [
    "#### Check distribution of point values"
   ]
  },
  {
   "cell_type": "code",
   "execution_count": 66,
   "id": "39f58db2",
   "metadata": {},
   "outputs": [
    {
     "data": {
      "text/plain": [
       "<Axes: >"
      ]
     },
     "execution_count": 66,
     "metadata": {},
     "output_type": "execute_result"
    },
    {
     "data": {
      "image/png": "[encoded data removed]",
      "text/plain": [
       "<Figure size 640x480 with 1 Axes>"
      ]
     },
     "metadata": {},
     "output_type": "display_data"
    }
   ],
   "source": [
    "df[\"points\"].hist()"
   ]
  }
 ],
 "metadata": {
  "kernelspec": {
   "display_name": "Python 3 (ipykernel)",
   "language": "python",
   "name": "python3"
  },
  "language_info": {
   "codemirror_mode": {
    "name": "ipython",
    "version": 3
   },
   "file_extension": ".py",
   "mimetype": "text/x-python",
   "name": "python",
   "nbconvert_exporter": "python",
   "pygments_lexer": "ipython3",
   "version": "3.10.9"
  }
 },
 "nbformat": 4,
 "nbformat_minor": 5
}
