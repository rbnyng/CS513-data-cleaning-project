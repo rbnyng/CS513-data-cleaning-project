{
 "cells": [
  {
   "cell_type": "code",
   "execution_count": 7,
   "id": "a2b4ad07",
   "metadata": {},
   "outputs": [
    {
     "data": {
      "text/html": [
       "<div>\n",
       "<style scoped>\n",
       "    .dataframe tbody tr th:only-of-type {\n",
       "        vertical-align: middle;\n",
       "    }\n",
       "\n",
       "    .dataframe tbody tr th {\n",
       "        vertical-align: top;\n",
       "    }\n",
       "\n",
       "    .dataframe thead th {\n",
       "        text-align: right;\n",
       "    }\n",
       "</style>\n",
       "<table border=\"1\" class=\"dataframe\">\n",
       "  <thead>\n",
       "    <tr style=\"text-align: right;\">\n",
       "      <th></th>\n",
       "      <th>country</th>\n",
       "      <th>province</th>\n",
       "      <th>region_1</th>\n",
       "      <th>region_2</th>\n",
       "      <th>winery</th>\n",
       "      <th>winery_id</th>\n",
       "    </tr>\n",
       "  </thead>\n",
       "  <tbody>\n",
       "    <tr>\n",
       "      <th>0</th>\n",
       "      <td>Italy</td>\n",
       "      <td>Sicily &amp; Sardinia</td>\n",
       "      <td>Etna</td>\n",
       "      <td>NaN</td>\n",
       "      <td>Nicosia</td>\n",
       "      <td>0</td>\n",
       "    </tr>\n",
       "    <tr>\n",
       "      <th>1</th>\n",
       "      <td>Portugal</td>\n",
       "      <td>Douro</td>\n",
       "      <td>NaN</td>\n",
       "      <td>NaN</td>\n",
       "      <td>Quinta dos Avidagos</td>\n",
       "      <td>1</td>\n",
       "    </tr>\n",
       "    <tr>\n",
       "      <th>2</th>\n",
       "      <td>US</td>\n",
       "      <td>Oregon</td>\n",
       "      <td>Willamette Valley</td>\n",
       "      <td>Willamette Valley</td>\n",
       "      <td>Rainstorm</td>\n",
       "      <td>2</td>\n",
       "    </tr>\n",
       "    <tr>\n",
       "      <th>3</th>\n",
       "      <td>US</td>\n",
       "      <td>Michigan</td>\n",
       "      <td>Lake Michigan Shore</td>\n",
       "      <td>NaN</td>\n",
       "      <td>St. Julian</td>\n",
       "      <td>3</td>\n",
       "    </tr>\n",
       "    <tr>\n",
       "      <th>4</th>\n",
       "      <td>US</td>\n",
       "      <td>Oregon</td>\n",
       "      <td>Willamette Valley</td>\n",
       "      <td>Willamette Valley</td>\n",
       "      <td>Sweet Cheeks</td>\n",
       "      <td>4</td>\n",
       "    </tr>\n",
       "  </tbody>\n",
       "</table>\n",
       "</div>"
      ],
      "text/plain": [
       "    country           province             region_1           region_2  \\\n",
       "0     Italy  Sicily & Sardinia                 Etna                NaN   \n",
       "1  Portugal              Douro                  NaN                NaN   \n",
       "2        US             Oregon    Willamette Valley  Willamette Valley   \n",
       "3        US           Michigan  Lake Michigan Shore                NaN   \n",
       "4        US             Oregon    Willamette Valley  Willamette Valley   \n",
       "\n",
       "                winery  winery_id  \n",
       "0              Nicosia          0  \n",
       "1  Quinta dos Avidagos          1  \n",
       "2            Rainstorm          2  \n",
       "3           St. Julian          3  \n",
       "4         Sweet Cheeks          4  "
      ]
     },
     "execution_count": 7,
     "metadata": {},
     "output_type": "execute_result"
    }
   ],
   "source": [
    "import pandas as pd\n",
    "df = pd.read_csv(\"intermediate_data/wineries.csv\")\n",
    "df.head()"
   ]
  },
  {
   "cell_type": "markdown",
   "id": "4d26ad7a",
   "metadata": {},
   "source": [
    "### Fixing \"country\" and \"province\" Values"
   ]
  },
  {
   "cell_type": "markdown",
   "id": "2fdf2a0d",
   "metadata": {},
   "source": [
    "#### Add in missing \"country\" and \"province\" values\n",
    "First, identify the wineries with missing \"country\" and \"province\" information and verify that they're the same"
   ]
  },
  {
   "cell_type": "code",
   "execution_count": 19,
   "id": "67caece9",
   "metadata": {},
   "outputs": [
    {
     "data": {
      "text/plain": [
       "True"
      ]
     },
     "execution_count": 19,
     "metadata": {},
     "output_type": "execute_result"
    }
   ],
   "source": [
    "idx_missing_location = df[df['country'].isnull()].index\n",
    "missing_countries = df[\"winery\"].loc[idx_missing_location]\n",
    "\n",
    "idx_missing_location = df[df['province'].isnull()].index\n",
    "missing_provinces = df[\"winery\"].loc[idx_missing_location]\n",
    "\n",
    "list(missing_countries)==list(missing_provinces)"
   ]
  },
  {
   "cell_type": "markdown",
   "id": "1a8cb459",
   "metadata": {},
   "source": [
    "Then, look up the winery names and find the true values."
   ]
  },
  {
   "cell_type": "code",
   "execution_count": 20,
   "id": "fa4211e6",
   "metadata": {},
   "outputs": [
    {
     "data": {
      "text/plain": [
       "838                   Gotsa Family Wines\n",
       "2636                   Barton & Guestier\n",
       "3460     Kakhetia Traditional Winemaking\n",
       "6715                            Tsililis\n",
       "6837                            Ross-idi\n",
       "7554                             Orbelus\n",
       "8931                           St. Donat\n",
       "9714                      Familia Deicas\n",
       "10008                     Bartho Eksteen\n",
       "13507                       Stone Castle\n",
       "13508                     Teliani Valley\n",
       "13511                          Undurraga\n",
       "13912                      Mt. Beautiful\n",
       "16794                         Neumeister\n",
       "16956                          Bachelder\n",
       "18523                            Chilcas\n",
       "18714                          Santa Ema\n",
       "19347                             Psagot\n",
       "20966                     Newton Johnson\n",
       "21470                      Ktima Voyatzi\n",
       "25333                            Lismore\n",
       "25334                            Logodaj\n",
       "25958                      Somlói Vándor\n",
       "27408                  Les Frères Dutruy\n",
       "28854                        El Capricho\n",
       "29464                  Amiran Vepkhvadze\n",
       "30376                          Büyülübağ\n",
       "Name: winery, dtype: object"
      ]
     },
     "execution_count": 20,
     "metadata": {},
     "output_type": "execute_result"
    }
   ],
   "source": [
    "df[\"winery\"].loc[idx_missing_location]"
   ]
  },
  {
   "cell_type": "markdown",
   "id": "3f99ddd3",
   "metadata": {},
   "source": [
    "**First half:**\n",
    "| Winery    | Index | Country | Province |\n",
    "| -------- | ------- | ------- | ------- |\n",
    "| Gotsa Family Wines | 838 | Georgia | Kvemo Kartli |\n",
    "| Barton & Guestier | 2636 | France | Gironde |\n",
    "| Kakhetia Traditional Winemaking | 3460 | Georgia | Kakheti |\n",
    "| Tsililis |6715 | Greece | Thessaly |\n",
    "| Ross-idi | 6837 | Bulgaria | Nikolaevo |\n",
    "| Orbelus | 7554 | Bulgaria | Blagoevgrad |\n",
    "| St. Donat | 8931 | Hungary | Veszprem |\n",
    "| Familia Deicas | 9714 | Uruguay | Canelones |\n",
    "| Bartho Eksteen | 10008 | South Africa | Western Cape |\n",
    "| Stone Castle | 13507 | Kosovo | Jakove |\n",
    "| Teliani Valley | 13508 | Georgia | Kakheti |\n",
    "| Undurraga | 13511 | Chile | Santiago |\n",
    "| Mt. Beautiful | 13912 | New Zealand | Canterbury | \n",
    "\n"
   ]
  },
  {
   "cell_type": "code",
   "execution_count": 29,
   "id": "40d4e5dc",
   "metadata": {},
   "outputs": [],
   "source": [
    "df.at[838,\"country\"] = \"Georgia\"\n",
    "df.at[838,\"province\"] = \"Kvemo Kartli\"\n",
    "df.at[2636,\"country\"] = \"France\"\n",
    "df.at[2636,\"province\"] = \"Gironde\"\n",
    "df.at[3460,\"country\"] = \"Georgia\"\n",
    "df.at[3460,\"province\"] = \"Kakheti\"\n",
    "df.at[6715,\"country\"] = \"Greece\"\n",
    "df.at[6715,\"province\"] = \"Thessaly\"\n",
    "df.at[6837,\"country\"] = \"Bulgaria\"\n",
    "df.at[6837,\"province\"] = \"Nikolaevo\"\n",
    "df.at[7554,\"country\"] = \"Bulgaria\"\n",
    "df.at[7554,\"province\"] = \"Blagoevgrad\"\n",
    "df.at[8931,\"country\"] = \"Hungary\"\n",
    "df.at[8931,\"province\"] = \"Veszprem\"\n",
    "df.at[9714,\"country\"] = \"Uruguay\"\n",
    "df.at[9714,\"province\"] = \"Canelones\"\n",
    "df.at[10008,\"country\"] = \"South Africa\"\n",
    "df.at[10008,\"province\"] = \"Western Cape\"\n",
    "df.at[13507\t,\"country\"] = \"Kosovo\"\n",
    "df.at[13507\t,\"province\"] = \"Jakove\"\n",
    "df.at[13508\t,\"country\"] = \"Georgia\"\n",
    "df.at[13508\t,\"province\"] = \"Kakheti\"\n",
    "df.at[13511\t,\"country\"] = \"Chile\"\n",
    "df.at[13511\t,\"province\"] = \"Santiago\"\n",
    "df.at[13912,\"country\"] = \"New Zealand\"\n",
    "df.at[13912,\"province\"] = \"Canterbury\""
   ]
  },
  {
   "cell_type": "markdown",
   "id": "04efd8cd",
   "metadata": {},
   "source": [
    "**Second half:**\n",
    "| Winery    | Index | Country | Province |\n",
    "| -------- | ------- | ------- | ------- |\n",
    "| Neumeister | 16794 | Austria | Styria |\n",
    "| Bachelder | 16956 | Canada | Ontario |\n",
    "| Chilcas | 18523 | Chile | Maule |\n",
    "| Santa Ema | 18714 | Chile | Santiago |\n",
    "| Psagot | 19347 | Israel | Judea and Samaria |\n",
    "| Newton Johnson | 20966 | South Africa | Western Cape |\n",
    "| Ktima Voyatzi | 21470 | Greece | Western Macedonia |\n",
    "| Lismore | 25333 | South Africa | Western Cape |\n",
    "| Logodaj | 25334 | Bulgaria | Blagoevgrad |\n",
    "| Somlói Vándor | 25958 | Hungary | Veszprem | \n",
    "| Les Frères Dutruy | 27408 | Switzerland | Vaud |\n",
    "| El Capricho | 28854 | Uruguay | Durazno |\n",
    "| Amiran Vepkhvadze | 29464 | Georgia | Imereti | \n",
    "| Büyülübağ | 30376 | Turkey |Balıkesir |"
   ]
  },
  {
   "cell_type": "code",
   "execution_count": 30,
   "id": "5e80f94f",
   "metadata": {},
   "outputs": [],
   "source": [
    "df.at[16794,\"country\"] = \"Austria\"\n",
    "df.at[16794,\"province\"] = \"Styria\"\n",
    "df.at[16956,\"country\"] = \"Canada\"\n",
    "df.at[16956,\"province\"] = \"Ontario\"\n",
    "df.at[18523,\"country\"] = \"Chile\"\n",
    "df.at[18523,\"province\"] = \"Maule\"\n",
    "df.at[18714,\"country\"] = \"Chile\"\n",
    "df.at[18714,\"province\"] = \"Santiago\"\n",
    "df.at[19347,\"country\"] = \"Israel\"\n",
    "df.at[19347,\"province\"] = \"Judea and Samaria\"\n",
    "df.at[20966,\"country\"] = \"South Africa\"\n",
    "df.at[20966,\"province\"] = \"Western Cape\"\n",
    "df.at[21470,\"country\"] = \"Greece\"\n",
    "df.at[21470,\"province\"] = \"Western Macedonia\"\n",
    "df.at[25333,\"country\"] = \"South Africa\"\n",
    "df.at[25333,\"province\"] = \"Western Cape\"\n",
    "df.at[25334,\"country\"] = \"Bulgaria\"\n",
    "df.at[25334,\"province\"] = \"Blagoevgrad\"\n",
    "df.at[25958,\"country\"] = \"Hungary\"\n",
    "df.at[25958,\"province\"] = \"Veszprem\"\n",
    "df.at[27408,\"country\"] = \"Switzerland\"\n",
    "df.at[27408,\"province\"] = \"Vaud\"\n",
    "df.at[28854,\"country\"] = \"Uruguay\"\n",
    "df.at[28854,\"province\"] = \"Durazno\"\n",
    "df.at[29464,\"country\"] = \"Georgia\"\n",
    "df.at[29464,\"province\"] = \"Imereti\"\n",
    "df.at[30376,\"country\"] = \"Turkey\"\n",
    "df.at[30376,\"province\"] = \"Balıkesir\""
   ]
  },
  {
   "cell_type": "code",
   "execution_count": 32,
   "id": "5a233fcc",
   "metadata": {},
   "outputs": [
    {
     "name": "stdout",
     "output_type": "stream",
     "text": [
      "Series([], Name: winery, dtype: object)\n",
      "Series([], Name: winery, dtype: object)\n"
     ]
    }
   ],
   "source": [
    "# Check that there aren't any more null values\n",
    "idx_missing_location = df[df['country'].isnull()].index\n",
    "missing_countries = df[\"winery\"].loc[idx_missing_location]\n",
    "\n",
    "idx_missing_location = df[df['province'].isnull()].index\n",
    "missing_provinces = df[\"winery\"].loc[idx_missing_location]\n",
    "\n",
    "print(missing_countries)\n",
    "print(missing_provinces)"
   ]
  },
  {
   "cell_type": "markdown",
   "id": "af4b784b",
   "metadata": {},
   "source": [
    "#### Check for \"country\" and \"province\" duplicates"
   ]
  },
  {
   "cell_type": "markdown",
   "id": "a0e8a3a9",
   "metadata": {},
   "source": [
    "### Cleaning \"region_1\" and \"region_2\" values"
   ]
  },
  {
   "cell_type": "markdown",
   "id": "0769879d",
   "metadata": {},
   "source": [
    "#### Check for duplicates"
   ]
  }
 ],
 "metadata": {
  "kernelspec": {
   "display_name": "Python 3 (ipykernel)",
   "language": "python",
   "name": "python3"
  },
  "language_info": {
   "codemirror_mode": {
    "name": "ipython",
    "version": 3
   },
   "file_extension": ".py",
   "mimetype": "text/x-python",
   "name": "python",
   "nbconvert_exporter": "python",
   "pygments_lexer": "ipython3",
   "version": "3.10.9"
  }
 },
 "nbformat": 4,
 "nbformat_minor": 5
}
